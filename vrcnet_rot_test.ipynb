{
 "cells": [
  {
   "cell_type": "code",
   "execution_count": 2,
   "metadata": {},
   "outputs": [],
   "source": [
    "import logging\n",
    "import os\n",
    "import sys\n",
    "import importlib\n",
    "import argparse\n",
    "import munch\n",
    "import yaml\n",
    "from utils.vis_utils import plot_single_pcd\n",
    "from utils.train_utils import *\n",
    "from dataset import ShapeNetH5\n",
    "config_path = 'cfgs/vrcnet.yaml'\n",
    "args = munch.munchify(yaml.safe_load(open(config_path)))\n",
    "exp_name = os.path.basename(args.load_model)\n",
    "log_dir = os.path.dirname(args.load_model)\n",
    "logging.basicConfig(level=logging.INFO, handlers=[logging.FileHandler(os.path.join(log_dir, 'rot_test.log')),\n",
    "                                                  logging.StreamHandler(sys.stdout)])"
   ]
  },
  {
   "cell_type": "code",
   "execution_count": 16,
   "metadata": {},
   "outputs": [
    {
     "name": "stdout",
     "output_type": "stream",
     "text": [
      "(41600, 2048, 3)\n",
      "(1600, 2048, 3)\n",
      "(41600,)\n",
      "INFO:root:Length of rotated test dataset:41600\n"
     ]
    }
   ],
   "source": [
    "dataset_test = ShapeNetH5(train=False, npoints=args.num_points)\n",
    "dataloader_test = torch.utils.data.DataLoader(dataset_test, batch_size=args.batch_size,\n",
    "                                              shuffle=False, num_workers=int(args.workers))\n",
    "dataset_length = len(dataset_test)\n",
    "logging.info('Length of rotated test dataset:%d', len(dataset_test))"
   ]
  },
  {
   "cell_type": "code",
   "execution_count": 4,
   "metadata": {},
   "outputs": [],
   "source": [
    "os.environ['CUDA_VISIBLE_DEVICES'] = '0,1'"
   ]
  },
  {
   "cell_type": "code",
   "execution_count": 5,
   "metadata": {},
   "outputs": [
    {
     "name": "stdout",
     "output_type": "stream",
     "text": [
      "Loaded compiled 3D CUDA chamfer distance\n",
      "INFO:root:vrcnet's previous weights loaded.\n"
     ]
    }
   ],
   "source": [
    "model_module = importlib.import_module('.%s' % args.model_name, 'models')\n",
    "net = torch.nn.DataParallel(model_module.Model(args))\n",
    "net.cuda()\n",
    "net.module.load_state_dict(torch.load(args.load_model)['net_state_dict'])\n",
    "logging.info(\"%s's previous weights loaded.\" % args.model_name)"
   ]
  },
  {
   "cell_type": "code",
   "execution_count": 17,
   "metadata": {},
   "outputs": [
    {
     "name": "stdout",
     "output_type": "stream",
     "text": [
      "(1600, 2048, 3)\n"
     ]
    }
   ],
   "source": [
    "# azimuthal_angle = 90\n",
    "import numpy as np\n",
    "# angle coordinates are askewed\n",
    "rotation_matrix = np.array(((0,0,1),(0,1,0),(-1,0,0)))\n",
    "dataset_test.gt_data = dataset_test.gt_data @ rotation_matrix\n",
    "print(dataset_test.gt_data.shape)"
   ]
  },
  {
   "cell_type": "code",
   "execution_count": 18,
   "metadata": {},
   "outputs": [
    {
     "name": "stdout",
     "output_type": "stream",
     "text": [
      "(41600, 2048, 3)\n"
     ]
    }
   ],
   "source": [
    "dataset_test.input_data = dataset_test.input_data @ rotation_matrix\n",
    "print(dataset_test.input_data.shape)"
   ]
  },
  {
   "cell_type": "code",
   "execution_count": 36,
   "metadata": {},
   "outputs": [
    {
     "name": "stdout",
     "output_type": "stream",
     "text": [
      "INFO:root:Testing...\n"
     ]
    }
   ],
   "source": [
    "metrics = ['cd_p', 'cd_t', 'f1']\n",
    "test_loss_meters = {m: AverageValueMeter() for m in metrics}\n",
    "test_loss_cat = torch.zeros([16, 3], dtype=torch.float32).cuda()\n",
    "cat_num = torch.ones([16, 1], dtype=torch.float32).cuda() * 150\n",
    "cat_name = ['airplane', 'cabinet', 'car', 'chair', 'lamp', 'sofa', 'table', 'vessel',\n",
    "            'bed', 'bench', 'bookshelf', 'bus', 'guitar', 'motorbike', 'pistol', 'skateboard']\n",
    "idx_to_plot = [i for i in range(0, 41600, 75)]\n",
    "logging.info('Testing...')\n",
    "if args.save_vis:\n",
    "    save_gt_path = os.path.join(log_dir, 'rot_pics', 'gt')\n",
    "    save_partial_path = os.path.join(log_dir, 'rot_pics', 'partial')\n",
    "    save_completion_path = os.path.join(log_dir, 'rot_pics', 'completion')\n",
    "    os.makedirs(save_gt_path, exist_ok=True)\n",
    "    os.makedirs(save_partial_path, exist_ok=True)\n",
    "    os.makedirs(save_completion_path, exist_ok=True)"
   ]
  },
  {
   "cell_type": "code",
   "execution_count": null,
   "metadata": {},
   "outputs": [
    {
     "name": "stdout",
     "output_type": "stream",
     "text": [
      "INFO:root:test [0/1300]\n"
     ]
    }
   ],
   "source": [
    "with torch.no_grad():\n",
    "    for i, data in enumerate(dataloader_test):\n",
    "            \n",
    "        label, inputs_cpu, gt_cpu = data\n",
    "        # mean_feature = None\n",
    "\n",
    "        inputs = inputs_cpu.float().cuda()\n",
    "        gt = gt_cpu.float().cuda()\n",
    "        inputs = inputs.transpose(2, 1).contiguous()\n",
    "        # result_dict = net(inputs, gt, is_training=False, mean_feature=mean_feature)\n",
    "        result_dict = net(inputs, gt, is_training=False)\n",
    "        for k, v in test_loss_meters.items():\n",
    "            v.update(result_dict[k].mean().item())\n",
    "\n",
    "        for j, l in enumerate(label):\n",
    "            for ind, m in enumerate(metrics):\n",
    "                test_loss_cat[int(l), ind] = result_dict[m][int(j)]\n",
    "\n",
    "        if i % args.step_interval_to_print == 0:\n",
    "            logging.info('test [%d/%d]' % (i, dataset_length / args.batch_size))\n",
    "\n",
    "        if args.save_vis:\n",
    "            for j in range(args.batch_size):\n",
    "                idx = i * args.batch_size + j\n",
    "                if idx in idx_to_plot:\n",
    "                    pic = 'object_%d.png' % idx\n",
    "                    plot_single_pcd(result_dict['out2'][j].cpu().numpy(), os.path.join(save_completion_path, pic))\n",
    "                    plot_single_pcd(gt_cpu[j], os.path.join(save_gt_path, pic))\n",
    "                    plot_single_pcd(inputs_cpu[j].cpu().numpy(), os.path.join(save_partial_path, pic))"
   ]
  },
  {
   "cell_type": "code",
   "execution_count": 35,
   "metadata": {},
   "outputs": [
    {
     "name": "stdout",
     "output_type": "stream",
     "text": [
      "INFO:root:Loss per category:\n",
      "INFO:root:\n",
      "category name: airplane cd_p: 0.962176 cd_t: 0.962176 f1: 0.000096 \n",
      "category name: cabinet cd_p: 1.181573 cd_t: 1.181573 f1: 0.000118 \n",
      "category name: car cd_p: 1.461717 cd_t: 1.461717 f1: 0.000146 \n",
      "category name: chair cd_p: 1.879329 cd_t: 1.879329 f1: 0.000188 \n",
      "category name: lamp cd_p: 0.679914 cd_t: 0.679914 f1: 0.000068 \n",
      "category name: sofa cd_p: 1.779218 cd_t: 1.779218 f1: 0.000178 \n",
      "category name: table cd_p: 0.672744 cd_t: 0.672744 f1: 0.000067 \n",
      "category name: vessel cd_p: 1.142574 cd_t: 1.142574 f1: 0.000114 \n",
      "category name: bed cd_p: 1.338193 cd_t: 1.338193 f1: 0.000134 \n",
      "category name: bench cd_p: 0.933539 cd_t: 0.933539 f1: 0.000093 \n",
      "category name: bookshelf cd_p: 0.914230 cd_t: 0.914230 f1: 0.000091 \n",
      "category name: bus cd_p: 0.785461 cd_t: 0.785461 f1: 0.000079 \n",
      "category name: guitar cd_p: 0.751776 cd_t: 0.751776 f1: 0.000075 \n",
      "category name: motorbike cd_p: 0.785553 cd_t: 0.785553 f1: 0.000079 \n",
      "category name: pistol cd_p: 0.939464 cd_t: 0.939464 f1: 0.000094 \n",
      "category name: skateboard cd_p: 0.939697 cd_t: 0.939697 f1: 0.000094 \n",
      "INFO:root:Overview results:\n",
      "INFO:root:cd_p: 0.018785 cd_t: 0.002061 f1: 0.862483 \n"
     ]
    }
   ],
   "source": [
    "with torch.no_grad():\n",
    "    logging.info('Loss per category:')\n",
    "    category_log = ''\n",
    "    for i in range(16):\n",
    "        category_log += '\\ncategory name: %s ' % (cat_name[i])\n",
    "        for ind, m in enumerate(metrics):\n",
    "            scale_factor = 1 if m == 'f1' else 10000\n",
    "            category_log += '%s: %f ' % (m, test_loss_cat[i, 0] / cat_num[i] * scale_factor)\n",
    "    logging.info(category_log)\n",
    "\n",
    "    logging.info('Overview results:')\n",
    "    overview_log = ''\n",
    "    for metric, meter in test_loss_meters.items():\n",
    "        overview_log += '%s: %f ' % (metric, meter.avg)\n",
    "    logging.info(overview_log)"
   ]
  },
  {
   "cell_type": "code",
   "execution_count": null,
   "metadata": {},
   "outputs": [],
   "source": []
  }
 ],
 "metadata": {
  "kernelspec": {
   "display_name": "3dcompletion",
   "language": "python",
   "name": "3dcompletion"
  },
  "language_info": {
   "codemirror_mode": {
    "name": "ipython",
    "version": 3
   },
   "file_extension": ".py",
   "mimetype": "text/x-python",
   "name": "python",
   "nbconvert_exporter": "python",
   "pygments_lexer": "ipython3",
   "version": "3.6.13"
  }
 },
 "nbformat": 4,
 "nbformat_minor": 4
}
