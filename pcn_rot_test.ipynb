{
 "cells": [
  {
   "cell_type": "code",
   "execution_count": 19,
   "metadata": {},
   "outputs": [],
   "source": [
    "import logging\n",
    "import os\n",
    "import sys\n",
    "import importlib\n",
    "import argparse\n",
    "import munch\n",
    "import yaml\n",
    "from utils.vis_utils import plot_single_pcd\n",
    "from utils.train_utils import *\n",
    "from utils.ri_utils import *\n",
    "from utils.model_utils import *\n",
    "from dataset import ShapeNetH5\n",
    "config_path = 'cfgs/ri_vrcnet.yaml'\n",
    "args = munch.munchify(yaml.safe_load(open(config_path)))\n",
    "exp_name = os.path.basename(args.load_model)\n",
    "log_dir = os.path.dirname(args.load_model)"
   ]
  },
  {
   "cell_type": "code",
   "execution_count": 20,
   "metadata": {},
   "outputs": [
    {
     "name": "stdout",
     "output_type": "stream",
     "text": [
      "(10400, 2048, 3)\n",
      "(400, 2048, 3)\n",
      "(10400,)\n",
      "Length of dataset: 10400\n"
     ]
    }
   ],
   "source": [
    "dataset = ShapeNetH5(train=False, novel_input_only=True, npoints=args.num_points)\n",
    "dataloader = torch.utils.data.DataLoader(dataset, batch_size=args.batch_size,\n",
    "                                              shuffle=False, num_workers=int(args.workers))\n",
    "dataset_length = len(dataset)\n",
    "print('Length of dataset:', len(dataset))"
   ]
  },
  {
   "cell_type": "code",
   "execution_count": 25,
   "metadata": {},
   "outputs": [
    {
     "name": "stdout",
     "output_type": "stream",
     "text": [
      "tensor(3.5020e-08, device='cuda:5')\n",
      "tensor(4.0078e-15, device='cuda:5')\n"
     ]
    }
   ],
   "source": [
    "data = torch.from_numpy(dataset.gt_data)\n",
    "input_clone = torch.clone(data)\n",
    "device = torch.device('cuda:5')\n",
    "a1, a2, a3, data_new = point_ortho_feature(data)\n",
    "data_new = inverse_point_ortho_feature(a1, a2, a3, data_new)\n",
    "data_old = input_clone.to(device)\n",
    "data_rec = data_new.to(device)\n",
    "cd_p, cd_t = calc_cd(data_old, data_rec)\n",
    "print(cd_p.mean())\n",
    "print(cd_t.mean())"
   ]
  },
  {
   "cell_type": "code",
   "execution_count": 22,
   "metadata": {},
   "outputs": [],
   "source": [
    "def point_ortho_feature(points, pca=True, axis1=None, axis2=None, axis3=None):\n",
    "    # Input shape: [batch_size, num_point, 3]\n",
    "    # Return: [batch_size, num_point, 3]\n",
    "    batch_size = points.size()[0]\n",
    "    num_point = points.size()[1]\n",
    "    \n",
    "    vector_norm = torch.sqrt(torch.sum(points * points, 2, keepdim=False))\n",
    "    \n",
    "    if pca:\n",
    "        # Using PCA to define 3 axises\n",
    "        _, _, V = torch.pca_lowrank(points)\n",
    "        axis1, axis2, axis3 = V.chunk(3, dim=2)\n",
    "        axis1 = axis1.squeeze()\n",
    "        axis2 = axis2.squeeze()\n",
    "        axis3 = axis3.squeeze()\n",
    "        axis1 = axis1 / (torch.norm(axis1, 2, 1, keepdim=True) + 1e-7)\n",
    "        axis2 = axis2 / (torch.norm(axis2, 2, 1, keepdim=True) + 1e-7)\n",
    "        axis3 = axis3 / (torch.norm(axis3, 2, 1, keepdim=True) + 1e-7)\n",
    "        \n",
    "    elif axis1 is not None:\n",
    "        axis1, axis2, axis3 = axis1, axis2, axis3\n",
    "        \n",
    "    c1 = torch.sum(points * axis1.unsqueeze(1), 2, keepdim=True)\n",
    "    c2 = torch.sum(points * axis2.unsqueeze(1), 2, keepdim=True)\n",
    "    c3 = torch.sum(points * axis3.unsqueeze(1), 2, keepdim=True)\n",
    "        \n",
    "    new_c = torch.cat([c1, c2, c3], 2)\n",
    "    assert (new_c.size() == torch.Size([batch_size, num_point, 3]))\n",
    "    return axis1, axis2, axis3, new_c\n",
    "\n",
    "\n",
    "def inverse_point_ortho_feature(axis1, axis2, axis3, points):\n",
    "    # Axis shape: [batch_size, 3]\n",
    "    # Input shape: [batch_size, num_point, 3]\n",
    "    # Return: [batch_size, num_point, 3]\n",
    "    if len(list(points.size())) == 2 and len(list(axis1.size())) == 1:\n",
    "        axis1 = axis1[None,:]\n",
    "        axis2 = axis2[None,:]\n",
    "        axis3 = axis3[None,:]\n",
    "        points = points[None,:]\n",
    "\n",
    "    batch_size = points.size()[0]\n",
    "    num_point = points.size()[1]\n",
    "    \n",
    "    A = torch.cat([axis1.unsqueeze(2), axis2.unsqueeze(2), axis3.unsqueeze(2)], dim=2)\n",
    "    A = torch.transpose(A, 1, 2).unsqueeze(1).repeat(1, num_point, 1, 1)\n",
    "    X = torch.matmul(torch.linalg.pinv(A), points.unsqueeze(3)).squeeze()\n",
    "    \n",
    "    return X.squeeze()"
   ]
  },
  {
   "cell_type": "code",
   "execution_count": 18,
   "metadata": {},
   "outputs": [
    {
     "name": "stdout",
     "output_type": "stream",
     "text": [
      "tensor([[-0.9997],\n",
      "        [ 0.0233],\n",
      "        [-0.0085]])\n",
      "tensor([[ 0.0087],\n",
      "        [ 0.0097],\n",
      "        [-0.9999]])\n",
      "tensor([[0.0232],\n",
      "        [0.9997],\n",
      "        [0.0099]])\n"
     ]
    }
   ],
   "source": [
    "a, b, c = V.chunk(3, dim=2)\n",
    "print(a[0])\n",
    "print(b[0])\n",
    "print(c[0])"
   ]
  },
  {
   "cell_type": "code",
   "execution_count": 17,
   "metadata": {},
   "outputs": [],
   "source": [
    "input_clone = torch.clone(input_data)"
   ]
  },
  {
   "cell_type": "code",
   "execution_count": 97,
   "metadata": {},
   "outputs": [],
   "source": [
    "rotation_transform(dataset_test)"
   ]
  },
  {
   "cell_type": "code",
   "execution_count": 18,
   "metadata": {},
   "outputs": [],
   "source": [
    "X = inverse_point_projection_feature(axis1, axis2, axis3, dataset_new)"
   ]
  },
  {
   "cell_type": "code",
   "execution_count": 19,
   "metadata": {},
   "outputs": [
    {
     "name": "stdout",
     "output_type": "stream",
     "text": [
      "tensor(2.1600e-06, device='cuda:0')\n",
      "tensor(4.2582e-07, device='cuda:0')\n"
     ]
    }
   ],
   "source": [
    "device = torch.device('cuda:0')\n",
    "data_old = input_clone.to(device)\n",
    "data_rec = X.to(device)\n",
    "cd_p, cd_t = calc_cd(data_old, data_rec)\n",
    "print(cd_p.mean())\n",
    "print(cd_t.mean())"
   ]
  },
  {
   "cell_type": "code",
   "execution_count": 20,
   "metadata": {},
   "outputs": [],
   "source": [
    "log_dir = 'images/temp'\n",
    "idx_to_plot = [i for i in range(0, 1600, 75)]\n",
    "save_path = log_dir\n",
    "os.makedirs(save_path, exist_ok=True)\n",
    "for idx in idx_to_plot:\n",
    "    pic = 'object_%d.png' % idx\n",
    "    #ply = 'object_%d.ply' % idx\n",
    "    plot_single_pcd(X[idx], os.path.join(log_dir, pic))\n",
    "    #pcd = o3d.geometry.PointCloud(o3d.utility.Vector3dVector(X[idx]))\n",
    "    #o3d.io.write_point_cloud(os.path.join(log_dir, ply), pcd)"
   ]
  },
  {
   "cell_type": "code",
   "execution_count": 101,
   "metadata": {},
   "outputs": [
    {
     "name": "stdout",
     "output_type": "stream",
     "text": [
      "torch.Size([400, 2048, 5])\n",
      "torch.Size([400, 2048, 5])\n"
     ]
    }
   ],
   "source": [
    "data_new = torch.cat([dataset_new, torch.zeros(400, 2048, 1)], 2)\n",
    "print(data_new.size())\n",
    "data_rot = torch.cat([n_dataset_new, torch.zeros(400, 2048, 1)], 2)\n",
    "print(data_rot.size())"
   ]
  },
  {
   "cell_type": "code",
   "execution_count": 48,
   "metadata": {},
   "outputs": [
    {
     "name": "stdout",
     "output_type": "stream",
     "text": [
      "(100000, 3)\n"
     ]
    },
    {
     "data": {
      "text/plain": [
       "True"
      ]
     },
     "execution_count": 48,
     "metadata": {},
     "output_type": "execute_result"
    }
   ],
   "source": [
    "z = 100000\n",
    "dummy = np.vstack((np.zeros(z), np.zeros(z), np.ones(z))).T\n",
    "print(dummy.shape)\n",
    "for i in range(z):\n",
    "    azi = np.random.rand() * 2 * np.pi\n",
    "    R = np.array(((np.cos(azi), np.sin(azi), 0),\n",
    "                              (-np.sin(azi), np.cos(azi), 0),\n",
    "                              (0, 0, 1)))\n",
    "    x = np.random.rand(2)\n",
    "    v = np.array((np.cos(2*np.pi*x[0])*np.sqrt(x[1]),\n",
    "                              np.sin(2*np.pi*x[0])*np.sqrt(x[1]),\n",
    "                              np.sqrt(1-x[1])))\n",
    "    H = np.eye(3) - 2 * np.outer(v, v)\n",
    "    rotation_matrix = -H @ R\n",
    "    dummy[i] = dummy[i] @ rotation_matrix\n",
    "plot_single_pcd(dummy, os.path.join('images/temp', 'uniform.png'))\n",
    "pcd = o3d.geometry.PointCloud(o3d.utility.Vector3dVector(dummy))\n",
    "o3d.io.write_point_cloud('images/temp/uniform.ply', pcd)\n",
    "\n",
    "dummy = np.vstack((np.zeros(z), np.zeros(z), np.ones(z))).T\n",
    "for i in range(z):\n",
    "    angs = np.random.rand(3) * 2 * np.pi\n",
    "    rot_z = np.array(((np.cos(angs[0]), -np.sin(angs[0]), 0),\n",
    "                                  (np.sin(angs[0]), np.cos(angs[0]), 0),\n",
    "                                  (0, 0, 1)))\n",
    "    rot_y = np.array(((np.cos(angs[1]), 0, np.sin(angs[1])),\n",
    "                                  (0, 1, 0),\n",
    "                                  (-np.sin(angs[1]), 0, np.cos(angs[1]))))\n",
    "    rot_x = np.array(((1, 0, 0),\n",
    "                                  (0, np.cos(angs[2]), -np.sin(angs[2])),\n",
    "                                  (0, np.sin(angs[2]), np.cos(angs[2]))))\n",
    "    rotation_matrix = rot_z @ rot_y @ rot_x\n",
    "    dummy[i] = dummy[i] @ rotation_matrix\n",
    "plot_single_pcd(dummy, os.path.join('images/temp', 'euler.png'))\n",
    "pcd = o3d.geometry.PointCloud(o3d.utility.Vector3dVector(dummy))\n",
    "o3d.io.write_point_cloud('images/temp/euler.ply', pcd)"
   ]
  },
  {
   "cell_type": "code",
   "execution_count": 5,
   "metadata": {},
   "outputs": [
    {
     "name": "stdout",
     "output_type": "stream",
     "text": [
      "Loaded compiled 3D CUDA chamfer distance\n",
      "INFO:root:siamese_vrcnet's previous weights loaded.\n"
     ]
    }
   ],
   "source": [
    "model_module = importlib.import_module('.%s' % args.model_name, 'models')\n",
    "net = torch.nn.DataParallel(model_module.Model(args))\n",
    "net.cuda()\n",
    "net.module.load_state_dict(torch.load(args.load_model)['net_state_dict'])\n",
    "logging.info(\"%s's previous weights loaded.\" % args.model_name)"
   ]
  },
  {
   "cell_type": "code",
   "execution_count": 16,
   "metadata": {},
   "outputs": [
    {
     "name": "stdout",
     "output_type": "stream",
     "text": [
      "(1600, 2048, 3)\n"
     ]
    }
   ],
   "source": [
    "# azimuthal_angle = 90\n",
    "# angle coordinates are askewed\n",
    "#rotation_matrix = np.array(((0,0,1),(0,1,0),(-1,0,0)))\n",
    "#rotation_matrix = np.array(((0,-1,0),(1,0,0),(0,0,1)))\n",
    "dataset_plot = dataset_test.gt_data.copy()\n",
    "#dataset_plot = dataset_test.gt_data @ rotation_matrix\n",
    "print(dataset_plot.shape)"
   ]
  },
  {
   "cell_type": "code",
   "execution_count": 11,
   "metadata": {},
   "outputs": [
    {
     "name": "stdout",
     "output_type": "stream",
     "text": [
      "(1600, 2048, 3)\n",
      "(41600, 2048, 3)\n"
     ]
    }
   ],
   "source": [
    "import numpy as np\n",
    "#np.random.seed(5)\n",
    "for i in range(dataset_test.gt_data.shape[0]):\n",
    "    angs = np.random.rand(3) * 2 * np.pi\n",
    "    rot_z = np.array(((np.cos(angs[0]), -np.sin(angs[0]), 0),\n",
    "                      (np.sin(angs[0]), np.cos(angs[0]), 0),\n",
    "                      (0, 0, 1)))\n",
    "    rot_y = np.array(((np.cos(angs[1]), 0, np.sin(angs[1])),\n",
    "                      (0, 1, 0),\n",
    "                      (-np.sin(angs[1]), 0, np.cos(angs[1]))))\n",
    "    rot_x = np.array(((1, 0, 0),\n",
    "                      (0, np.cos(angs[2]), -np.sin(angs[2])),\n",
    "                      (0, np.sin(angs[2]), np.cos(angs[2]))))\n",
    "    rotation_matrix = rot_z @ rot_y @ rot_x\n",
    "    #rotation_matrix = np.array(((0,0,1),(0,1,0),(-1,0,0)))\n",
    "    #dataset_test.gt_data[i] = dataset_test.gt_data[i] @ rotation_matrix\n",
    "    dataset_test.input_data[26*i:26*i+25] = dataset_test.input_data[26*i:26*i+25] @ rotation_matrix\n",
    "print(dataset_test.gt_data.shape)\n",
    "print(dataset_test.input_data.shape)"
   ]
  },
  {
   "cell_type": "code",
   "execution_count": 5,
   "metadata": {},
   "outputs": [
    {
     "name": "stdout",
     "output_type": "stream",
     "text": [
      "(1600, 2048, 3)\n",
      "(41600, 2048, 3)\n"
     ]
    }
   ],
   "source": [
    "import numpy as np\n",
    "for i in range(dataset_test.gt_data.shape[0]):\n",
    "    ang = np.random.rand() * 2 * np.pi\n",
    "    rotation_matrix = np.array(((np.cos(ang), 0, np.sin(ang)),\n",
    "                      (0, 1, 0),\n",
    "                      (-np.sin(ang), 0, np.cos(ang))))\n",
    "    dataset_test.gt_data[i] = dataset_test.gt_data[i] @ rotation_matrix\n",
    "    dataset_test.input_data[26*i:26*i+25] = dataset_test.input_data[26*i:26*i+25] @ rotation_matrix\n",
    "print(dataset_test.gt_data.shape)\n",
    "print(dataset_test.input_data.shape)"
   ]
  },
  {
   "cell_type": "code",
   "execution_count": 12,
   "metadata": {},
   "outputs": [
    {
     "name": "stdout",
     "output_type": "stream",
     "text": [
      "INFO:root:Testing...\n"
     ]
    }
   ],
   "source": [
    "metrics = ['cd_p', 'cd_t', 'f1']\n",
    "test_loss_meters = {m: AverageValueMeter() for m in metrics}\n",
    "test_loss_cat = torch.zeros([16, 3], dtype=torch.float32).cuda()\n",
    "cat_num = torch.ones([16, 1], dtype=torch.float32).cuda() * 150\n",
    "cat_name = ['airplane', 'cabinet', 'car', 'chair', 'lamp', 'sofa', 'table', 'vessel',\n",
    "            'bed', 'bench', 'bookshelf', 'bus', 'guitar', 'motorbike', 'pistol', 'skateboard']\n",
    "idx_to_plot = [i for i in range(0, 41600, 75)]\n",
    "logging.info('Testing...')\n",
    "if args.save_vis:\n",
    "    save_gt_path = os.path.join(log_dir, 'pics', 'gt')\n",
    "    save_partial_path = os.path.join(log_dir, 'pics', 'partial')\n",
    "    save_completion_path = os.path.join(log_dir, 'pics', 'completion')\n",
    "    os.makedirs(save_gt_path, exist_ok=True)\n",
    "    os.makedirs(save_partial_path, exist_ok=True)\n",
    "    os.makedirs(save_completion_path, exist_ok=True)"
   ]
  },
  {
   "cell_type": "code",
   "execution_count": null,
   "metadata": {},
   "outputs": [
    {
     "name": "stdout",
     "output_type": "stream",
     "text": [
      "INFO:root:test [0/1300]\n"
     ]
    }
   ],
   "source": [
    "with torch.no_grad():\n",
    "    for i, data in enumerate(dataloader_test):\n",
    "            \n",
    "        label, inputs_cpu, gt_cpu = data\n",
    "        # mean_feature = None\n",
    "\n",
    "        inputs = inputs_cpu.float().cuda()\n",
    "        gt = gt_cpu.float().cuda()\n",
    "        inputs = inputs.transpose(2, 1).contiguous()\n",
    "        # result_dict = net(inputs, gt, is_training=False, mean_feature=mean_feature)\n",
    "        result_dict = net(inputs, gt, is_training=False)\n",
    "        for k, v in test_loss_meters.items():\n",
    "            v.update(result_dict[k].mean().item())\n",
    "\n",
    "        for j, l in enumerate(label):\n",
    "            for ind, m in enumerate(metrics):\n",
    "                test_loss_cat[int(l), ind] = result_dict[m][int(j)]\n",
    "\n",
    "        if i % args.step_interval_to_print == 0:\n",
    "            logging.info('test [%d/%d]' % (i, dataset_length / args.batch_size))\n",
    "\n",
    "        if args.save_vis:\n",
    "            for j in range(args.batch_size):\n",
    "                idx = i * args.batch_size + j\n",
    "                if idx in idx_to_plot:\n",
    "                    pic = 'object_%d.png' % idx\n",
    "                    plot_single_pcd(result_dict['out2'][j].cpu().numpy(), os.path.join(save_completion_path, pic))\n",
    "                    plot_single_pcd(gt_cpu[j], os.path.join(save_gt_path, pic))\n",
    "                    plot_single_pcd(inputs_cpu[j].cpu().numpy(), os.path.join(save_partial_path, pic))"
   ]
  },
  {
   "cell_type": "code",
   "execution_count": 13,
   "metadata": {},
   "outputs": [
    {
     "name": "stdout",
     "output_type": "stream",
     "text": [
      "[ 0.  1.  2.  3.  4.  5.  6.  7.  8.  9. 10. 11. 12. 13. 14. 15.]\n"
     ]
    }
   ],
   "source": [
    "print(np.unique(dataset_test.labels))"
   ]
  },
  {
   "cell_type": "code",
   "execution_count": null,
   "metadata": {},
   "outputs": [],
   "source": [
    "with torch.no_grad():\n",
    "    logging.info('Loss per category:')\n",
    "    category_log = ''\n",
    "    for i in range(16):\n",
    "        category_log += '\\ncategory name: %s ' % (cat_name[i])\n",
    "        for ind, m in enumerate(metrics):\n",
    "            scale_factor = 1 if m == 'f1' else 10000\n",
    "            category_log += '%s: %f ' % (m, test_loss_cat[i, 0] / cat_num[i] * scale_factor)\n",
    "    logging.info(category_log)\n",
    "\n",
    "    logging.info('Overview results:')\n",
    "    overview_log = ''\n",
    "    for metric, meter in test_loss_meters.items():\n",
    "        overview_log += '%s: %f ' % (metric, meter.avg)\n",
    "    logging.info(overview_log)"
   ]
  },
  {
   "cell_type": "code",
   "execution_count": null,
   "metadata": {},
   "outputs": [],
   "source": []
  }
 ],
 "metadata": {
  "kernelspec": {
   "display_name": "3dcompletion",
   "language": "python",
   "name": "3dcompletion"
  },
  "language_info": {
   "codemirror_mode": {
    "name": "ipython",
    "version": 3
   },
   "file_extension": ".py",
   "mimetype": "text/x-python",
   "name": "python",
   "nbconvert_exporter": "python",
   "pygments_lexer": "ipython3",
   "version": "3.6.13"
  }
 },
 "nbformat": 4,
 "nbformat_minor": 4
}
