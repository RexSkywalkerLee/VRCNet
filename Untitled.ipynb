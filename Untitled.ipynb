{
 "cells": [
  {
   "cell_type": "code",
   "execution_count": 1,
   "metadata": {},
   "outputs": [],
   "source": [
    "import logging\n",
    "import os\n",
    "import sys\n",
    "import importlib\n",
    "import argparse\n",
    "import munch\n",
    "import yaml\n",
    "from utils.vis_utils import plot_single_pcd\n",
    "from utils.train_utils import *\n",
    "from dataset import ShapeNetH5\n",
    "config_path = 'cfgs/vrcnet.yaml'\n",
    "args = munch.munchify(yaml.safe_load(open(config_path)))"
   ]
  },
  {
   "cell_type": "code",
   "execution_count": 2,
   "metadata": {},
   "outputs": [
    {
     "name": "stdout",
     "output_type": "stream",
     "text": [
      "(41600, 2048, 3)\n",
      "(1600, 2048, 3)\n",
      "(41600,)\n"
     ]
    }
   ],
   "source": [
    "dataset = ShapeNetH5(train=True, novel_input=False, npoints=args.num_points)\n",
    "dataset_length = len(dataset)"
   ]
  },
  {
   "cell_type": "code",
   "execution_count": 3,
   "metadata": {},
   "outputs": [
    {
     "name": "stdout",
     "output_type": "stream",
     "text": [
      "[0. 1. 2. 3. 4. 5. 6. 7.]\n",
      "41600\n"
     ]
    }
   ],
   "source": [
    "import numpy as np\n",
    "print(np.unique(dataset.labels))\n",
    "print(dataset_length)"
   ]
  },
  {
   "cell_type": "code",
   "execution_count": 8,
   "metadata": {},
   "outputs": [
    {
     "name": "stdout",
     "output_type": "stream",
     "text": [
      "(62400, 2048, 3)\n",
      "(2400, 2048, 3)\n",
      "(62400,)\n",
      "[ 0.  1.  2.  3.  4.  5.  6.  7.  8.  9. 10. 11. 12. 13. 14. 15.]\n",
      "62400\n"
     ]
    }
   ],
   "source": [
    "dataset_size_compare = ShapeNetH5(train=True, npoints=args.num_points)\n",
    "print(np.unique(dataset_size_compare.labels))\n",
    "print(len(dataset_size_compare))"
   ]
  },
  {
   "cell_type": "code",
   "execution_count": 4,
   "metadata": {},
   "outputs": [
    {
     "name": "stdout",
     "output_type": "stream",
     "text": [
      "[-0.05744887 -0.03169839  0.02266546]\n",
      "[ 0.06882104  0.00538504 -0.00731781]\n",
      "(41600, 2048, 3)\n",
      "(1600, 2048, 3)\n",
      "(41600,)\n"
     ]
    }
   ],
   "source": [
    "print(dataset.gt_data[0,500])\n",
    "for i in range(dataset.gt_data.shape[0]):\n",
    "    angs = np.random.rand(3) * 2 * np.pi\n",
    "    rot_z = np.array(((np.cos(angs[0]), -np.sin(angs[0]), 0),\n",
    "                      (np.sin(angs[0]), np.cos(angs[0]), 0),\n",
    "                      (0, 0, 1)))\n",
    "    rot_y = np.array(((np.cos(angs[1]), 0, np.sin(angs[1])),\n",
    "                      (0, 1, 0),\n",
    "                      (-np.sin(angs[1]), 0, np.cos(angs[1]))))\n",
    "    rot_x = np.array(((1, 0, 0),\n",
    "                      (0, np.cos(angs[2]), -np.sin(angs[2])),\n",
    "                      (0, np.sin(angs[2]), np.cos(angs[2]))))\n",
    "    rotation_matrix = rot_z @ rot_y @ rot_x\n",
    "    #rotation_matrix = np.array(((0,0,1),(0,1,0),(-1,0,0)))\n",
    "    dataset.gt_data[i] = dataset.gt_data[i] @ rotation_matrix\n",
    "    dataset.input_data[26*i:26*i+25] = dataset.input_data[26*i:26*i+25] @ rotation_matrix\n",
    "#rotation_matrix = np.array(((0,0,1),(0,1,0),(-1,0,0)))\n",
    "#dataset.gt_data = dataset.gt_data @ rotation_matrix\n",
    "#dataset.input_data = dataset.input_data @ rotation_matrix\n",
    "print(dataset.gt_data[0,500])\n",
    "print(dataset.input_data.shape)\n",
    "print(dataset.gt_data.shape)\n",
    "print(dataset.labels.shape)"
   ]
  },
  {
   "cell_type": "code",
   "execution_count": 6,
   "metadata": {},
   "outputs": [],
   "source": [
    "dataloader = torch.utils.data.DataLoader(dataset, batch_size=args.batch_size,\n",
    "                                         shuffle=True, num_workers=int(args.workers))\n",
    "\n",
    "save_gt_path = os.path.join('exp_pics', 'gt')\n",
    "save_partial_path = os.path.join('exp_pics', 'partial')\n",
    "os.makedirs(save_gt_path, exist_ok=True)\n",
    "os.makedirs(save_partial_path, exist_ok=True)\n",
    "\n",
    "idx_to_plot = [i for i in range(0, 1200, 75)]\n",
    "    \n",
    "for i, data in enumerate(dataloader):\n",
    "    label, inputs_cpu, gt_cpu = data\n",
    "    for j in range(args.batch_size):\n",
    "        idx = i * args.batch_size + j\n",
    "        if idx in idx_to_plot:\n",
    "            pic = 'object_%d.png' % idx\n",
    "            plot_single_pcd(gt_cpu[j], os.path.join(save_gt_path, pic))\n",
    "            plot_single_pcd(inputs_cpu[j].cpu().numpy(), os.path.join(save_partial_path, pic))"
   ]
  },
  {
   "cell_type": "code",
   "execution_count": 8,
   "metadata": {},
   "outputs": [
    {
     "name": "stdout",
     "output_type": "stream",
     "text": [
      "[[ 0.81493618  0.54326519  0.20184635]\n",
      " [-0.5316006   0.5619959   0.63368873]\n",
      " [ 0.23082421 -0.62371752  0.74679089]]\n",
      "[2.563587   3.37451733 2.44575551]\n"
     ]
    }
   ],
   "source": [
    "print(rotation_matrix)\n",
    "print(angs)"
   ]
  },
  {
   "cell_type": "code",
   "execution_count": 24,
   "metadata": {},
   "outputs": [
    {
     "data": {
      "text/plain": [
       "1600"
      ]
     },
     "execution_count": 24,
     "metadata": {},
     "output_type": "execute_result"
    }
   ],
   "source": [
    "dataset.gt_data.shape[0]"
   ]
  },
  {
   "cell_type": "code",
   "execution_count": null,
   "metadata": {},
   "outputs": [],
   "source": []
  }
 ],
 "metadata": {
  "kernelspec": {
   "display_name": "3dcompletion",
   "language": "python",
   "name": "3dcompletion"
  },
  "language_info": {
   "codemirror_mode": {
    "name": "ipython",
    "version": 3
   },
   "file_extension": ".py",
   "mimetype": "text/x-python",
   "name": "python",
   "nbconvert_exporter": "python",
   "pygments_lexer": "ipython3",
   "version": "3.6.13"
  }
 },
 "nbformat": 4,
 "nbformat_minor": 4
}
